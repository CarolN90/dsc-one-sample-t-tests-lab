{
 "cells": [
  {
   "cell_type": "markdown",
   "metadata": {},
   "source": [
    "# One Sample T-Test - Lab\n",
    "\n",
    "## Introduction\n",
    "Just as you previously used the t-distribution to provide confidence intervals for estimating the population mean, you can also use similar methods to test whether two populations are different, statistically speaking. To do this, you can use a t-test.\n",
    "\n",
    "## Objectives\n",
    "You will be able to:\n",
    "\n",
    "* Perform a one sample t-test and make conclusions about an experiment based on the results\n",
    "\n",
    "### Exercise 1: \n",
    "\n",
    "Create a function in Python `one_sample_ttest(sample, popmean, alpha)` that will take in sample data (an array of observations), the population mean and the alpha value to calculate and print out the t-statistic, critical t-value, and p-value for the sample and identify if the results are significant or not. The function should also create a visualization using `seaborn` of the distribution to check for normality."
   ]
  },
  {
   "cell_type": "code",
   "execution_count": 1,
   "metadata": {},
   "outputs": [],
   "source": [
    "def one_sample_ttest(sample, popmean, alpha):\n",
    "\n",
    "    # Visualize sample distribution for normality \n",
    "    plt.figure(figsize=(8, 5))\n",
    "    sns.histplot(sample, kde=True, color='skyblue')\n",
    "    plt.axvline(np.mean(sample), color='blue', linestyle='--', label=f'Sample Mean = {np.mean(sample):.2f}')\n",
    "    plt.axvline(popmean, color='red', linestyle='--', label=f'Population Mean = {popmean:.2f}')\n",
    "    plt.title(\"Sample Distribution\")\n",
    "    plt.legend()\n",
    "    plt.show()\n",
    "    \n",
    "    # Population mean \n",
    "   \n",
    "    # Sample mean (x̄) using NumPy mean()\n",
    "    sample_mean = np.mean(sample)\n",
    "    \n",
    "    # Sample Standard Deviation (sigma) using Numpy\n",
    "    sample_std = np.std(sample, ddof=1)\n",
    "    \n",
    "    # Degrees of freedom\n",
    "    n = len(sample)\n",
    "    df = n - 1\n",
    "    \n",
    "    # Calculate the critical t-value\n",
    "    t_critical = stats.t.ppf(1 - alpha/2, df)\n",
    "        \n",
    "    # Calculate the t-value and p-value   \n",
    "    t_stat, p_value = stats.ttest_1samp(sample, popmean)\n",
    "    \n",
    "    if p_value < alpha:\n",
    "        conclusion = \"Reject the null hypothesis (significant difference)\"\n",
    "    else:\n",
    "        conclusion = \"Fail to reject the null hypothesis (no significant difference)\"\n",
    "    \n",
    "    # return results\n",
    "        results = {\n",
    "        \"Sample Mean\": sample_mean,\n",
    "        \"Sample Standard Deviation\": sample_std,\n",
    "        \"Degrees of Freedom\": df,\n",
    "        \"Critical T-Value\": t_critical,\n",
    "        \"T-Statistic\": t_stat,\n",
    "        \"P-Value\": p_value,\n",
    "        \"Conclusion\": conclusion\n",
    "    }\n",
    "    return results\n"
   ]
  },
  {
   "cell_type": "markdown",
   "metadata": {},
   "source": [
    "### Exercise 2:\n",
    "\n",
    "Use the function created in Exercise 1 to answer the following analytical questions.\n",
    "\n",
    "In a Python class, some of the students have taken online courses to improve their Python skills.\n",
    "The scores of a random sample of 20 students who underwent the online-course on a Python test are as follows: \n",
    "\n",
    "     [84.0, 92.4, 74.3, 79.4, 86.7, 75.3, 90.9, 86.1, 81.0, 85.1, \n",
    "      78.7, 73.5, 86.9, 87.4, 82.7, 81.9, 69.9, 77.2, 79.3, 83.3]\n",
    "\n",
    "The mean score of the class before the test is 65. The teacher thinks that the online training has really helped the students and now they should perform better than the class (population) mean. Use this to set your null and alternative hypotheses.\n",
    "\n",
    "1. Test to see if the sample mean is significantly different from 65 at the .05 level. Report the t- and p-values.\n",
    "2. The researcher realizes that she accidentally recorded the score that should have been 80.9 as 90.9. Are these corrected scores significantly different from 65 at the .05 level?\n",
    "\n",
    "Bonus: What is the effect size of the first sample compared to the population? How can you interpret this effect size in relation to your significance test?\n",
    "\n",
    "\n",
    "### Solution:"
   ]
  },
  {
   "cell_type": "code",
   "execution_count": 2,
   "metadata": {
    "scrolled": true
   },
   "outputs": [],
   "source": [
    "#Null Hypothesis (H₀): The mean score of the students who underwent the online course is equal to the population mean of 65.\n",
    "#Alternative Hypothesis (H₁): The mean score of the students who underwent the online course is greater than the population mean of 65"
   ]
  },
  {
   "cell_type": "code",
   "execution_count": 3,
   "metadata": {},
   "outputs": [],
   "source": [
    "import numpy as np\n",
    "import matplotlib.pyplot as plt\n",
    "import seaborn as sns\n",
    "import scipy.stats as stats"
   ]
  },
  {
   "cell_type": "code",
   "execution_count": 6,
   "metadata": {
    "scrolled": true
   },
   "outputs": [],
   "source": [
    "sample_scores = [84.0, 92.4, 74.3, 79.4, 86.7, 75.3, 90.9, 86.1, 81.0, 85.1,\n",
    "    78.7, 73.5, 86.9, 87.4, 82.7, 81.9, 69.9, 77.2, 79.3, 83.3]\n",
    "popmean = 65\n",
    "alpha = 0.05\n",
    "\n",
    "def one_sample_ttest(sample, popmean, alpha=0.05):\n",
    "    # Visualize sample distribution for normality\n",
    "    plt.figure(figsize=(8, 5))\n",
    "    sns.histplot(sample, kde=True, color='skyblue')\n",
    "    plt.axvline(np.mean(sample), color='blue', linestyle='--', label=f'Sample Mean = {np.mean(sample):.2f}')\n",
    "    plt.axvline(popmean, color='red', linestyle='--', label=f'Population Mean = {popmean:.2f}')\n",
    "    plt.title(\"Sample Distribution\")\n",
    "    plt.legend()\n",
    "    plt.tight_layout()\n",
    "    plt.show()\n",
    "    \n",
    "    sample_mean = np.mean(sample_scores)\n",
    "    sample_std = np.std(sample_scores, ddof=1)\n",
    "    n = len(sample_scores)\n",
    "    df = n - 1\n",
    "\n",
    "    # Calculate the critical t-value\n",
    "    t_critical = stats.t.ppf(1 - alpha/2, df)\n",
    "\n",
    "    # Perform one-sample t-test\n",
    "    t_stat, p_value = stats.ttest_1samp(sample_scores, popmean)\n",
    "\n",
    "    if p_value < alpha:\n",
    "        conclusion = \"Reject the null hypothesis (significant difference)\"\n",
    "    else:\n",
    "        conclusion = \"Fail to reject the null hypothesis (no significant difference)\"\n",
    "        \n",
    "    print(f\"Sample Mean = {sample_mean:.2f}\")\n",
    "    print(f\"Sample Standard Deviation = {sample_std:.2f}\")\n",
    "    print(f\"Degrees of Freedom = {df}\")\n",
    "    print(f\"Critical t-value = {t_critical:.4f}\")\n",
    "    print(f\"t-Statistic = {t_stat:.4f}\")\n",
    "    print(f\"p-Value = {p_value:.4f}\")\n",
    "    print(f\"Conclusion: {conclusion}\")\n",
    "    \n",
    "    return t_stat, p_value\n"
   ]
  },
  {
   "cell_type": "code",
   "execution_count": 5,
   "metadata": {},
   "outputs": [
    {
     "name": "stdout",
     "output_type": "stream",
     "text": [
      "Testing initial sample:\n"
     ]
    },
    {
     "data": {
      "image/png": "[encoded data removed]",
      "text/plain": [
       "<Figure size 576x360 with 1 Axes>"
      ]
     },
     "metadata": {
      "needs_background": "light"
     },
     "output_type": "display_data"
    },
    {
     "name": "stdout",
     "output_type": "stream",
     "text": [
      "Sample Mean = 81.80\n",
      "Sample Standard Deviation = 5.92\n",
      "Degrees of Freedom = 19\n",
      "Critical t-value = 2.0930\n",
      "t-Statistic = 12.6876\n",
      "p-Value = 0.0000\n",
      "Conclusion: Reject the null hypothesis (significant difference)\n",
      "Effect size (Cohen's d) = 2.84\n",
      "\n",
      "Testing corrected sample:\n"
     ]
    },
    {
     "data": {
      "image/png": "[encoded data removed]",
      "text/plain": [
       "<Figure size 576x360 with 1 Axes>"
      ]
     },
     "metadata": {
      "needs_background": "light"
     },
     "output_type": "display_data"
    },
    {
     "name": "stdout",
     "output_type": "stream",
     "text": [
      "Sample Mean = 81.80\n",
      "Sample Standard Deviation = 5.92\n",
      "Degrees of Freedom = 19\n",
      "Critical t-value = 2.0930\n",
      "t-Statistic = 12.6876\n",
      "p-Value = 0.0000\n",
      "Conclusion: Reject the null hypothesis (significant difference)\n",
      "Effect size (Cohen's d) = 2.95\n"
     ]
    }
   ],
   "source": [
    "# Effect size (Cohen's d) calculation\n",
    "def effect_size(sample, popmean):\n",
    "    sample_mean = np.mean(sample)\n",
    "    sample_std = np.std(sample, ddof=1)\n",
    "    cohen_d = (sample_mean - popmean) / sample_std\n",
    "    return cohen_d\n",
    "# 1. Test the initial sample\n",
    "sample_scores = [84.0, 92.4, 74.3, 79.4, 86.7, 75.3, 90.9, 86.1, 81.0, 85.1, \n",
    "                 78.7, 73.5, 86.9, 87.4, 82.7, 81.9, 69.9, 77.2, 79.3, 83.3]\n",
    "\n",
    "popmean = 65\n",
    "alpha = 0.05\n",
    "\n",
    "print(\"Testing initial sample:\")\n",
    "t_stat, p_value = one_sample_ttest(sample_scores, popmean, alpha)\n",
    "cohen_d = effect_size(sample_scores, popmean)\n",
    "print(f\"Effect size (Cohen's d) = {cohen_d:.2f}\")\n",
    "\n",
    "# 2. Test the corrected sample (replace the erroneous score 90.9 with 80.9)\n",
    "corrected_sample_scores = [84.0, 92.4, 74.3, 79.4, 86.7, 75.3, 80.9, 86.1, 81.0, 85.1, \n",
    "                           78.7, 73.5, 86.9, 87.4, 82.7, 81.9, 69.9, 77.2, 79.3, 83.3]\n",
    "\n",
    "print(\"\\nTesting corrected sample:\")\n",
    "t_stat_corrected, p_value_corrected = one_sample_ttest(corrected_sample_scores, popmean, alpha)\n",
    "cohen_d_corrected = effect_size(corrected_sample_scores, popmean)\n",
    "print(f\"Effect size (Cohen's d) = {cohen_d_corrected:.2f}\")"
   ]
  },
  {
   "cell_type": "markdown",
   "metadata": {},
   "source": [
    "## Summary\n",
    "\n",
    "In this lab, you saw a quick introduction to hypothesis testing using frequentist methods with t-values and p-values. You saw how a one sample t-test can be applied to contexts where the population mean is unknown and you have a limited amount of sample data. You looked at all the stages required for such hypothesis testing with a description of steps and also, how to perform these functions in Python. The lesson also briefly explains the comparison of using p-value for statistical significance vs. effect sizes. "
   ]
  }
 ],
 "metadata": {
  "kernelspec": {
   "display_name": "Python 3",
   "language": "python",
   "name": "python3"
  },
  "language_info": {
   "codemirror_mode": {
    "name": "ipython",
    "version": 3
   },
   "file_extension": ".py",
   "mimetype": "text/x-python",
   "name": "python",
   "nbconvert_exporter": "python",
   "pygments_lexer": "ipython3",
   "version": "3.8.5"
  },
  "toc": {
   "base_numbering": 1,
   "nav_menu": {},
   "number_sections": true,
   "sideBar": true,
   "skip_h1_title": false,
   "title_cell": "Table of Contents",
   "title_sidebar": "Contents",
   "toc_cell": false,
   "toc_position": {},
   "toc_section_display": true,
   "toc_window_display": false
  }
 },
 "nbformat": 4,
 "nbformat_minor": 2
}
